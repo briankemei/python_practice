{
 "cells": [
  {
   "cell_type": "markdown",
   "id": "63b96754",
   "metadata": {},
   "source": [
    "Stacks, Queues & 2 pointers"
   ]
  },
  {
   "cell_type": "markdown",
   "id": "498af8f2",
   "metadata": {},
   "source": [
    "Question 1\n",
    " Post Format Validator\n",
    " Understanding\n",
    " Each post must have a balanced and correctly nested tags (),[],{}\n",
    " Determine if the tags are correctly formatted\n",
    "\n",
    " Plan\n",
    " Intialize an empty stack for tracking the tags\n",
    " Iterate through the posts\n",
    " if an opening tag push on to stack \n",
    " if a closing tag check if the stack is not empty and whether the tag is a the top of stack is corresponding with the opening tag\n",
    "  if yes pop the corresponding \n",
    "    if no return false \n",
    "Check on all characters, if the stack is empty all tags were properly nested and return TRUE.\n",
    "If not empty return FALSE\n"
   ]
  },
  {
   "cell_type": "code",
   "execution_count": 1,
   "id": "2f314e01",
   "metadata": {},
   "outputs": [
    {
     "name": "stdout",
     "output_type": "stream",
     "text": [
      "True\n",
      "True\n",
      "False\n"
     ]
    }
   ],
   "source": [
    "\n",
    "def is_valid_post_format(posts):\n",
    "    stack = []\n",
    "    pairs = {')': '(', ']': '[', '}': '{'}\n",
    "\n",
    "    for ch in posts:\n",
    "        if ch in \"([{\":\n",
    "            stack.append(ch)\n",
    "        elif ch in \")]}\":\n",
    "            if not stack:\n",
    "                return False\n",
    "            top = stack.pop()\n",
    "            if pairs[ch] != top:\n",
    "                return False\n",
    "\n",
    "    return len(stack) == 0\n",
    "\n",
    "\n",
    "print(is_valid_post_format(\"()\"))        # True\n",
    "print(is_valid_post_format(\"()[]{}\"))    # True\n",
    "print(is_valid_post_format(\"(]\"))        # False\n"
   ]
  },
  {
   "cell_type": "markdown",
   "id": "01387aee",
   "metadata": {},
   "source": [
    "Manage Performance Stage Changes\n",
    "U\n",
    "stack to schedule, reschedule and cancel\n",
    "Function takes in list\n",
    "Return a list of perfomance scheduled to be done on stage\n",
    "\n",
    "P\n",
    "Define the function\n",
    "Create an empty list to store the scheduled and canceled  perfomance \n",
    "use a for loop to iterate over the list\n",
    "if action starts with\"schedule\" extract ID and append to the list\n",
    "If action starts with \"cancel\" pop it \n",
    "If action  starts with reschedule pop from canceled and append it to schedule\n",
    "Return list\n",
    "\n",
    "\n",
    "I"
   ]
  },
  {
   "cell_type": "code",
   "execution_count": 8,
   "id": "3bb24bb0",
   "metadata": {},
   "outputs": [
    {
     "name": "stdout",
     "output_type": "stream",
     "text": [
      "['A', 'C', 'B', 'D']\n",
      "[]\n",
      "['Z']\n"
     ]
    }
   ],
   "source": [
    "def manage_stage_changes(changes):\n",
    "    schedule= []\n",
    "    cancel = []\n",
    "\n",
    "    #for loop \n",
    "    for order in changes:\n",
    "        if order.startswith(\"Schedule\"):\n",
    "            x = order.split()\n",
    "            schedule.append(x[1])\n",
    "        elif order ==\"Cancel\":\n",
    "            if schedule:  \n",
    "                                 \n",
    "                cancel.append(schedule.pop())\n",
    "\n",
    "            \n",
    "        elif order==\"Reschedule\":\n",
    "            if cancel:\n",
    "            \n",
    "                schedule.append(cancel.pop())\n",
    "    return schedule\n",
    "print(manage_stage_changes([\"Schedule A\", \"Schedule B\", \"Cancel\", \"Schedule C\", \"Reschedule\", \"Schedule D\"]))  \n",
    "print(manage_stage_changes([\"Schedule A\", \"Cancel\", \"Schedule B\", \"Cancel\", \"Reschedule\", \"Cancel\"])) \n",
    "print(manage_stage_changes([\"Schedule X\", \"Schedule Y\", \"Cancel\", \"Cancel\", \"Schedule Z\"])) \n",
    "\n",
    "\n"
   ]
  },
  {
   "cell_type": "markdown",
   "id": "d6076a6b",
   "metadata": {},
   "source": [
    "Queue of Performance Requests\n",
    "\n",
    "U\n",
    "Queues to prioritize the performance \n",
    "Return a list of perfomance\n",
    "\n",
    "P\n",
    "Define the function\n",
    "Create an empty dictionary\n",
    "loop through the dictionary\n",
    "Check the highest priority and append it into the list\n",
    "return the list\n"
   ]
  },
  {
   "cell_type": "code",
   "execution_count": 26,
   "id": "9f2fe7ef",
   "metadata": {},
   "outputs": [
    {
     "name": "stdout",
     "output_type": "stream",
     "text": [
      "['Music', 'Dance', 'Drama']\n",
      "['Concert', 'Stand-up Comedy', 'Poetry', 'Magic Show']\n",
      "['Keynote Speech', 'Panel Discussion', 'Film Screening', 'Workshop', 'Art Exhibition']\n"
     ]
    }
   ],
   "source": [
    "def process_performance_requests(requests):\n",
    "    #create an empty dictionary \n",
    "    perfomance={}\n",
    "    #Empty list to store the order\n",
    "    priority=[]\n",
    "\n",
    "    #for loop to iterate \n",
    "    for key, value in requests:\n",
    "         # if the priority is no in the dictionary \n",
    "         if key not in perfomance:\n",
    "              perfomance[key]=[]\n",
    "         perfomance[key].append(value)\n",
    "\n",
    "    for key in sorted(perfomance.keys(), reverse=True):\n",
    "         priority.extend(perfomance[key])\n",
    "    return priority\n",
    "\n",
    "\n",
    "\n",
    "print(process_performance_requests([(3, 'Dance'), (5, 'Music'), (1, 'Drama')])) #Music, Dance, Drama\n",
    "print(process_performance_requests([(2, 'Poetry'), (1, 'Magic Show'), (4, 'Concert'), (3, 'Stand-up Comedy')]))# Concert sstandup peotry  Magic\n",
    "print(process_performance_requests([(1, 'Art Exhibition'), (3, 'Film Screening'), (2, 'Workshop'), (5, 'Keynote Speech'), (4, 'Panel Discussion')]))\n",
    "\n"
   ]
  },
  {
   "cell_type": "markdown",
   "id": "3a510d4f",
   "metadata": {},
   "source": [
    "Problem 3: Collecting Points at Festival Booths\n",
    "U\n",
    "Function takes a list of numbers \n",
    "Returns the total  value\n",
    "\n",
    "P\n",
    "Iititalize a funtion\n",
    "create an empty variable to store the total value\n",
    "use a for loop to add the the value into it\n",
    "return the value\n",
    "I"
   ]
  },
  {
   "cell_type": "code",
   "execution_count": 32,
   "id": "f40d931a",
   "metadata": {},
   "outputs": [
    {
     "name": "stdout",
     "output_type": "stream",
     "text": [
      "26\n",
      "19\n",
      "25\n"
     ]
    }
   ],
   "source": [
    "def collect_festival_points(points):\n",
    "   total =[] #stack to store the points\n",
    "   total_points=0\n",
    "\n",
    "\n",
    "   #for loop to iterate through the loop and store the values in stack\n",
    "   for point in points:\n",
    "      total.append(point)\n",
    "\n",
    "   while total:       \n",
    "      total_points+= total.pop()\n",
    "      \n",
    "   return total_points\n",
    "\n",
    "\n",
    "\n",
    "print(collect_festival_points([5, 8, 3, 10])) #26\n",
    "print(collect_festival_points([2, 7, 4, 6])) #19\n",
    "print(collect_festival_points([1, 5, 9, 2, 8])) #25"
   ]
  },
  {
   "cell_type": "markdown",
   "id": "8f0c7495",
   "metadata": {},
   "source": [
    " Festival Booth Navigation\n",
    " "
   ]
  },
  {
   "cell_type": "code",
   "execution_count": 63,
   "id": "5b5ff47f",
   "metadata": {},
   "outputs": [
    {
     "name": "stdout",
     "output_type": "stream",
     "text": [
      "[1, 3, 4]\n",
      "[5, 7]\n",
      "[3]\n"
     ]
    }
   ],
   "source": [
    "def booth_navigation(clues):\n",
    "    order=[]\n",
    "\n",
    "    \n",
    "    for step in clues:\n",
    "\n",
    "        if step ==\"back\":\n",
    "            if order:\n",
    "                order.pop()\n",
    "        elif step!= 'back':\n",
    "                                \n",
    "            order.append(step)\n",
    "    return order\n",
    "\n",
    "\n",
    "clues = [1, 2, \"back\", 3, 4]\n",
    "print(booth_navigation(clues)) \n",
    "\n",
    "clues = [5, 3, 2, \"back\", \"back\", 7]\n",
    "print(booth_navigation(clues)) \n",
    "\n",
    "clues = [1, \"back\", 2, \"back\", \"back\", 3]\n",
    "print(booth_navigation(clues)) "
   ]
  },
  {
   "cell_type": "markdown",
   "id": "220810cc",
   "metadata": {},
   "source": [
    "Merge Performance Schedules\n"
   ]
  }
 ],
 "metadata": {
  "kernelspec": {
   "display_name": "Python 3",
   "language": "python",
   "name": "python3"
  },
  "language_info": {
   "codemirror_mode": {
    "name": "ipython",
    "version": 3
   },
   "file_extension": ".py",
   "mimetype": "text/x-python",
   "name": "python",
   "nbconvert_exporter": "python",
   "pygments_lexer": "ipython3",
   "version": "3.13.0"
  }
 },
 "nbformat": 4,
 "nbformat_minor": 5
}
