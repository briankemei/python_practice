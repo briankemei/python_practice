{
 "cells": [
  {
   "cell_type": "markdown",
   "id": "63b96754",
   "metadata": {},
   "source": [
    "Stacks, Queues & 2 pointers"
   ]
  },
  {
   "cell_type": "markdown",
   "id": "498af8f2",
   "metadata": {},
   "source": [
    "Question 1\n",
    " Post Format Validator\n",
    " Understanding\n",
    " Each post must have a balanced and correctly nested tags (),[],{}\n",
    " Determine if the tags are correctly formatted\n",
    "\n",
    " Plan\n",
    " Intialize an empty stack for tracking the tags\n",
    " Iterate through the posts\n",
    " if an opening tag push on to stack \n",
    " if a closing tag check if the stack is not empty and whether the tag is a the top of stack is corresponding with the opening tag\n",
    "  if yes pop the corresponding \n",
    "    if no return false \n",
    "Check on all characters, if the stack is empty all tags were properly nested and return TRUE.\n",
    "If not empty return FALSE\n"
   ]
  },
  {
   "cell_type": "code",
   "execution_count": null,
   "id": "2f314e01",
   "metadata": {},
   "outputs": [
    {
     "name": "stdout",
     "output_type": "stream",
     "text": [
      "True\n",
      "True\n",
      "False\n"
     ]
    }
   ],
   "source": [
    "\n",
    "def is_valid_post_format(posts):\n",
    "    stack = []\n",
    "    pairs = {')': '(', ']': '[', '}': '{'}\n",
    "\n",
    "    for ch in posts:\n",
    "        if ch in \"([{\":\n",
    "            stack.append(ch)\n",
    "        elif ch in \")]}\":\n",
    "            if not stack:\n",
    "                return False\n",
    "            top = stack.pop()\n",
    "            if pairs[ch] != top:\n",
    "                return False\n",
    "\n",
    "    return len(stack) == 0\n",
    "\n",
    "\n",
    "print(is_valid_post_format(\"()\"))        # True\n",
    "print(is_valid_post_format(\"()[]{}\"))    # True\n",
    "print(is_valid_post_format(\"(]\"))        # False\n"
   ]
  },
  {
   "cell_type": "markdown",
   "id": "01387aee",
   "metadata": {},
   "source": [
    "Question 2 Problem 2: Reverse User Comments Queue"
   ]
  },
  {
   "cell_type": "code",
   "execution_count": null,
   "id": "3bb24bb0",
   "metadata": {},
   "outputs": [],
   "source": []
  }
 ],
 "metadata": {
  "kernelspec": {
   "display_name": "Python 3",
   "language": "python",
   "name": "python3"
  },
  "language_info": {
   "codemirror_mode": {
    "name": "ipython",
    "version": 3
   },
   "file_extension": ".py",
   "mimetype": "text/x-python",
   "name": "python",
   "nbconvert_exporter": "python",
   "pygments_lexer": "ipython3",
   "version": "3.13.0"
  }
 },
 "nbformat": 4,
 "nbformat_minor": 5
}
