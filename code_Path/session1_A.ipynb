{
 "cells": [
  {
   "cell_type": "markdown",
   "id": "3790aca6",
   "metadata": {},
   "source": [
    "Hundred Acre Wood\n",
    "Write a function welcome() that prints the string \"Welcome to The Hundred Acre Wood!\"\n",
    "--> using UPI method \n",
    "Understand \n",
    "Function prints out a statement"
   ]
  },
  {
   "cell_type": "code",
   "execution_count": 2,
   "id": "accc3c8c",
   "metadata": {},
   "outputs": [
    {
     "name": "stdout",
     "output_type": "stream",
     "text": [
      "Welcome to The Hundred Acre Wood!\n"
     ]
    }
   ],
   "source": [
    "def welcome():\n",
    "    print(\"Welcome to The Hundred Acre Wood!\")\n",
    "\n",
    "welcome()"
   ]
  },
  {
   "cell_type": "markdown",
   "id": "0d8fab32",
   "metadata": {},
   "source": [
    "Problem:2  Greeting\n",
    "Write a function greeting() that accepts a single parameter, a string name, and prints the string\n",
    "UPI PLAN\n",
    "\n",
    "Understand\n",
    "Function accepts a string\n",
    "prints the string\n",
    "\n",
    "Plan\n",
    "Define the function\n",
    "pass in the parameter \n",
    "using f strings pass in the name\n",
    "\n",
    "Call in the functions\n",
    "\n",
    "Implement"
   ]
  },
  {
   "cell_type": "code",
   "execution_count": 3,
   "id": "28be205e",
   "metadata": {},
   "outputs": [
    {
     "name": "stdout",
     "output_type": "stream",
     "text": [
      "Welcome to The Hundred Acre Wood Michael! My name is Christopher Robin. \n",
      "Welcome to The Hundred Acre Wood Winnie the Pooh! My name is Christopher Robin. \n"
     ]
    }
   ],
   "source": [
    "def greeting(name):\n",
    "    print(f\"Welcome to The Hundred Acre Wood {name}! My name is Christopher Robin. \")\n",
    "    \n",
    "greeting('Michael')\n",
    "greeting(\"Winnie the Pooh\")"
   ]
  },
  {
   "cell_type": "markdown",
   "id": "2a848c57",
   "metadata": {},
   "source": [
    "Problem 3: Catchphrase\n",
    "Write a function print_catchphrase() that accepts a string character as a parameter and prints the catchphrase of the given character as outlined in the table below.\n",
    "\n",
    "Understand\n",
    "A function that accepts a string character \n",
    "prints out a phrase\n",
    "if the character does not match it prints a phrase\n",
    "Edge case for only strings\n",
    "\n",
    "Plan\n",
    "Define the function \n",
    "store the phrases in a dictionary\n",
    "use if statement to find if the phrase is in the \n",
    "if they match print out the items\n",
    "if they don't print out the phrase\n",
    "call out the function\n",
    "\n",
    "\n",
    "Implement\n"
   ]
  },
  {
   "cell_type": "code",
   "execution_count": 4,
   "id": "66e32a64",
   "metadata": {},
   "outputs": [
    {
     "name": "stdout",
     "output_type": "stream",
     "text": [
      "Oh bother!\n",
      "Sorry! I don't know Piglet's catchphrase!\n"
     ]
    }
   ],
   "source": [
    "def print_catchphrase(character):\n",
    "    catchphrase = {\"Pooh\" :\t\"Oh bother!\", \"Tigger\": \"TTFN: Ta-ta for now!\", \"Eeyore\" :\"Thanks for noticing me.\", \"Christopher Robin\":\"Silly old bear.\"  }\n",
    "\n",
    "    \n",
    "    if character in catchphrase :\n",
    "        print(catchphrase[character])\n",
    "    else:\n",
    "        print(f\"Sorry! I don't know {character}'s catchphrase!\")\n",
    "\n",
    "character = \"Pooh\"\n",
    "print_catchphrase(character)\n",
    "\n",
    "character = \"Piglet\"\n",
    "print_catchphrase(character)"
   ]
  },
  {
   "cell_type": "markdown",
   "id": "c621e8d8",
   "metadata": {},
   "source": [
    "Problem 4: Return Item\n",
    "Understand \n",
    "Function takes in list and non negative integer(x)\n",
    "Returns\n",
    " elements at index (x)\n",
    " if not valid index return none.\n",
    " \n",
    "Plan \n",
    "Define the function with list and integer\n",
    "check for x being a negative integer if so return none\n",
    "if x in list \n",
    "return index\n",
    "else return none\n",
    "\n",
    "call the function\n",
    "\n",
    "\n",
    "\n",
    "Implement"
   ]
  },
  {
   "cell_type": "code",
   "execution_count": 5,
   "id": "be2fe8f6",
   "metadata": {},
   "outputs": [
    {
     "name": "stdout",
     "output_type": "stream",
     "text": [
      "roo\n",
      "None\n"
     ]
    }
   ],
   "source": [
    "def get_item(items, x):\n",
    "    \n",
    "    # check for the index in the list\n",
    "    if 0<= x < len(items):        \n",
    "        return items[x]\n",
    "    else:\n",
    "        return None\n",
    "    \n",
    "\n",
    "\n",
    "items = [\"piglet\", \"pooh\", \"roo\", \"rabbit\"]\n",
    "x = 2\n",
    "print(get_item(items, x))\n",
    "\n",
    "items = [\"piglet\", \"pooh\", \"roo\", \"rabbit\"]\n",
    "x = 5\n",
    "print(get_item(items, x))"
   ]
  },
  {
   "cell_type": "markdown",
   "id": "6a12475c",
   "metadata": {},
   "source": [
    "problem set 4"
   ]
  },
  {
   "cell_type": "code",
   "execution_count": null,
   "id": "09216bfc",
   "metadata": {},
   "outputs": [
    {
     "data": {
      "text/plain": [
       "True"
      ]
     },
     "execution_count": 6,
     "metadata": {},
     "output_type": "execute_result"
    }
   ],
   "source": [
    "def check_list(nums):\n",
    "    # Write your code here\n",
    "    x = len(nums)\n",
    "    for i in nums:\n",
    "        if x > i:\n",
    "            return False\n",
    "    return True\n",
    "nums = [1, 2, 3, 4]\n",
    "check_list(nums)\n",
    "\n",
    "nums = [4, 4, 4, 4]\n",
    "check_list(nums)"
   ]
  },
  {
   "cell_type": "code",
   "execution_count": null,
   "id": "7f209fc5",
   "metadata": {},
   "outputs": [
    {
     "ename": "IndentationError",
     "evalue": "unindent does not match any outer indentation level (<string>, line 4)",
     "output_type": "error",
     "traceback": [
      "\u001b[1;36m  File \u001b[1;32m<string>:4\u001b[1;36m\u001b[0m\n\u001b[1;33m    pairs = {')': '(', ']': '[', '}': '{'}\u001b[0m\n\u001b[1;37m                                          ^\u001b[0m\n\u001b[1;31mIndentationError\u001b[0m\u001b[1;31m:\u001b[0m unindent does not match any outer indentation level\n"
     ]
    },
    {
     "ename": "",
     "evalue": "",
     "output_type": "error",
     "traceback": [
      "\u001b[1;31mThe Kernel crashed while executing code in the current cell or a previous cell. \n",
      "\u001b[1;31mPlease review the code in the cell(s) to identify a possible cause of the failure. \n",
      "\u001b[1;31mClick <a href='https://aka.ms/vscodeJupyterKernelCrash'>here</a> for more info. \n",
      "\u001b[1;31mView Jupyter <a href='command:jupyter.viewOutput'>log</a> for further details."
     ]
    }
   ],
   "source": []
  }
 ],
 "metadata": {
  "kernelspec": {
   "display_name": "Python 3",
   "language": "python",
   "name": "python3"
  },
  "language_info": {
   "codemirror_mode": {
    "name": "ipython",
    "version": 3
   },
   "file_extension": ".py",
   "mimetype": "text/x-python",
   "name": "python",
   "nbconvert_exporter": "python",
   "pygments_lexer": "ipython3",
   "version": "3.13.0"
  }
 },
 "nbformat": 4,
 "nbformat_minor": 5
}
