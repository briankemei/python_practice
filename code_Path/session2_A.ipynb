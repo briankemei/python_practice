{
 "cells": [
  {
   "cell_type": "markdown",
   "id": "26115153",
   "metadata": {},
   "source": [
    "Problem 1 \n",
    "Understand \n",
    "Function to map 2 list into a dictionary\n"
   ]
  },
  {
   "cell_type": "code",
   "execution_count": 8,
   "id": "16167fa4",
   "metadata": {},
   "outputs": [
    {
     "name": "stdout",
     "output_type": "stream",
     "text": [
      "{'Andreas Mogensen': 'Commander', 'Jasmin Moghbeli': 'Flight Engineer', 'Satoshi Furukawa': 'Flight Engineer', \"Loral O'Hara\": ' Flight Engineer', 'Konstantin Borisov': 'Flight Engineer'}\n",
      "{'Michael Lopez-Alegria': 'Commander', 'Walter Villadei': 'Mission Pilot', 'Alper Gezeravci': 'Mission Specialist', 'Marcus Wandt': 'Mission Specialist'}\n"
     ]
    }
   ],
   "source": [
    "def space_crew(crew, position):\n",
    "    #create an empty dictionary\n",
    "    crew_postions = {}\n",
    "\n",
    "    for i in range(len(crew)):\n",
    "        crew_postions[crew[i]] = position[i]\n",
    "    return crew_postions\n",
    "\n",
    "exp70_crew = [\"Andreas Mogensen\", \"Jasmin Moghbeli\", \"Satoshi Furukawa\", \"Loral O'Hara\", \"Konstantin Borisov\"]\n",
    "exp70_positions = [\"Commander\", \"Flight Engineer\", \"Flight Engineer\", \" Flight Engineer\", \"Flight Engineer\"] \n",
    "\n",
    "ax3_crew = [\"Michael Lopez-Alegria\", \"Walter Villadei\", \"Alper Gezeravci\", \"Marcus Wandt\"]\n",
    "ax3_positions = [\"Commander\", \"Mission Pilot\", \"Mission Specialist\", \"Mission Specialist\"]\n",
    "\n",
    "print(space_crew(exp70_crew, exp70_positions))\n",
    "print(space_crew(ax3_crew, ax3_positions))"
   ]
  },
  {
   "cell_type": "markdown",
   "id": "aee943d7",
   "metadata": {},
   "source": [
    "problem 2 Space Encyclopedia\n"
   ]
  },
  {
   "cell_type": "code",
   "execution_count": 5,
   "id": "34ca33c4",
   "metadata": {},
   "outputs": [
    {
     "name": "stdout",
     "output_type": "stream",
     "text": [
      "Planet Jupiter has an orbital period of 10592 Earth days and has 79 moons\n",
      "Sorry, I have no data on that planet.\n"
     ]
    }
   ],
   "source": [
    "def planet_lookup(planet_name):\n",
    "\n",
    "    planetary_info = {\n",
    "    \"Mercury\": {\n",
    "        \"Moons\": 0,\n",
    "        \"Orbital Period\": 88\n",
    "    },\n",
    "    \"Earth\": {\n",
    "        \"Moons\": 1,\n",
    "        \"Orbital Period\": 365.25\n",
    "    },\n",
    "    \"Mars\": {\n",
    "        \"Moons\": 2,\n",
    "        \"Orbital Period\": 687\n",
    "    },\n",
    "    \"Jupiter\": {\n",
    "        \"Moons\": 79,\n",
    "        \"Orbital Period\": 10592\n",
    "    }\n",
    "}\n",
    "    if planet_name in planetary_info:\n",
    "        print(f\"Planet {planet_name} has an orbital period of {planetary_info[planet_name][\"Orbital Period\"]} Earth days and has {planetary_info[planet_name][\"Moons\"]} moons\")\n",
    "    else:\n",
    "        print(\"Sorry, I have no data on that planet.\")\n",
    "    \n",
    "planet_lookup(\"Jupiter\")\n",
    "planet_lookup(\"Pluto\")"
   ]
  },
  {
   "cell_type": "markdown",
   "id": "4d32ca8e",
   "metadata": {},
   "source": [
    "problem 3 "
   ]
  },
  {
   "cell_type": "code",
   "execution_count": 7,
   "id": "8402231c",
   "metadata": {},
   "outputs": [
    {
     "ename": "ValueError",
     "evalue": "too many values to unpack (expected 2)",
     "output_type": "error",
     "traceback": [
      "\u001b[1;31m---------------------------------------------------------------------------\u001b[0m",
      "\u001b[1;31mValueError\u001b[0m                                Traceback (most recent call last)",
      "Cell \u001b[1;32mIn[7], line 13\u001b[0m\n\u001b[0;32m      8\u001b[0m             room_name\u001b[38;5;241m.\u001b[39mappend(key)\n\u001b[0;32m     10\u001b[0m     \u001b[38;5;28;01mreturn\u001b[39;00m room_name\n\u001b[1;32m---> 13\u001b[0m \u001b[38;5;28mprint\u001b[39m(\u001b[43mcheck_oxygen_levels\u001b[49m\u001b[43m(\u001b[49m\u001b[43moxygen_levels\u001b[49m\u001b[43m,\u001b[49m\u001b[43m \u001b[49m\u001b[43mmin_val\u001b[49m\u001b[43m,\u001b[49m\u001b[43m \u001b[49m\u001b[43mmax_val\u001b[49m\u001b[43m)\u001b[49m)\n",
      "Cell \u001b[1;32mIn[7], line 5\u001b[0m, in \u001b[0;36mcheck_oxygen_levels\u001b[1;34m(oxygen_levels, min_val, max_val)\u001b[0m\n\u001b[0;32m      1\u001b[0m \u001b[38;5;28;01mdef\u001b[39;00m \u001b[38;5;21mcheck_oxygen_levels\u001b[39m(oxygen_levels, min_val, max_val):\n\u001b[0;32m      2\u001b[0m     room_name\u001b[38;5;241m=\u001b[39m []\n\u001b[1;32m----> 5\u001b[0m     \u001b[38;5;28;01mfor\u001b[39;00m key, value \u001b[38;5;129;01min\u001b[39;00m oxygen_levels:\n\u001b[0;32m      7\u001b[0m         \u001b[38;5;28;01mif\u001b[39;00m value\u001b[38;5;241m<\u001b[39m min_val \u001b[38;5;129;01mand\u001b[39;00m value\u001b[38;5;241m>\u001b[39m max_val:\n\u001b[0;32m      8\u001b[0m             room_name\u001b[38;5;241m.\u001b[39mappend(key)\n",
      "\u001b[1;31mValueError\u001b[0m: too many values to unpack (expected 2)"
     ]
    }
   ],
   "source": [
    "def check_oxygen_levels(oxygen_levels, min_val, max_val):\n",
    "    room_name= []\n",
    "    \n",
    "\n",
    "    for key, value in oxygen_levels:\n",
    "\n",
    "        if value< min_val and value> max_val:\n",
    "            room_name.append(key)\n",
    "            \n",
    "    return room_name\n",
    "\n",
    "\n",
    "print(check_oxygen_levels(oxygen_levels, min_val, max_val))"
   ]
  }
 ],
 "metadata": {
  "kernelspec": {
   "display_name": "Python 3",
   "language": "python",
   "name": "python3"
  },
  "language_info": {
   "codemirror_mode": {
    "name": "ipython",
    "version": 3
   },
   "file_extension": ".py",
   "mimetype": "text/x-python",
   "name": "python",
   "nbconvert_exporter": "python",
   "pygments_lexer": "ipython3",
   "version": "3.13.0"
  }
 },
 "nbformat": 4,
 "nbformat_minor": 5
}
