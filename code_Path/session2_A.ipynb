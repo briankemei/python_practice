{
 "cells": [
  {
   "cell_type": "markdown",
   "id": "26115153",
   "metadata": {},
   "source": [
    "Problem 1 \n",
    "Understand \n",
    "Function to map 2 list into a dictionary\n"
   ]
  },
  {
   "cell_type": "code",
   "execution_count": 22,
   "id": "16167fa4",
   "metadata": {},
   "outputs": [
    {
     "name": "stdout",
     "output_type": "stream",
     "text": [
      "{'Andreas Mogensen': 'Commander', 'Jasmin Moghbeli': 'Flight Engineer', 'Satoshi Furukawa': 'Flight Engineer', \"Loral O'Hara\": ' Flight Engineer', 'Konstantin Borisov': 'Flight Engineer'}\n",
      "{'Michael Lopez-Alegria': 'Commander', 'Walter Villadei': 'Mission Pilot', 'Alper Gezeravci': 'Mission Specialist', 'Marcus Wandt': 'Mission Specialist'}\n"
     ]
    }
   ],
   "source": [
    "def space_crew(crew, position):\n",
    "    #create an empty dictionary\n",
    "    crew_postions = {}\n",
    "\n",
    "    for i in range(len(crew)):\n",
    "        crew_postions[crew[i]] = position[i]\n",
    "    return crew_postions\n",
    "\n",
    "exp70_crew = [\"Andreas Mogensen\", \"Jasmin Moghbeli\", \"Satoshi Furukawa\", \"Loral O'Hara\", \"Konstantin Borisov\"]\n",
    "exp70_positions = [\"Commander\", \"Flight Engineer\", \"Flight Engineer\", \" Flight Engineer\", \"Flight Engineer\"] \n",
    "\n",
    "ax3_crew = [\"Michael Lopez-Alegria\", \"Walter Villadei\", \"Alper Gezeravci\", \"Marcus Wandt\"]\n",
    "ax3_positions = [\"Commander\", \"Mission Pilot\", \"Mission Specialist\", \"Mission Specialist\"]\n",
    "\n",
    "print(space_crew(exp70_crew, exp70_positions))\n",
    "print(space_crew(ax3_crew, ax3_positions))"
   ]
  },
  {
   "cell_type": "markdown",
   "id": "aee943d7",
   "metadata": {},
   "source": [
    "problem 2 Space Encyclopedia\n"
   ]
  },
  {
   "cell_type": "code",
   "execution_count": 23,
   "id": "34ca33c4",
   "metadata": {},
   "outputs": [
    {
     "name": "stdout",
     "output_type": "stream",
     "text": [
      "Planet Jupiter has an orbital period of 10592 Earth days and has 79 moons\n",
      "Sorry, I have no data on that planet.\n"
     ]
    }
   ],
   "source": [
    "def planet_lookup(planet_name):\n",
    "\n",
    "    planetary_info = {\n",
    "    \"Mercury\": {\n",
    "        \"Moons\": 0,\n",
    "        \"Orbital Period\": 88\n",
    "    },\n",
    "    \"Earth\": {\n",
    "        \"Moons\": 1,\n",
    "        \"Orbital Period\": 365.25\n",
    "    },\n",
    "    \"Mars\": {\n",
    "        \"Moons\": 2,\n",
    "        \"Orbital Period\": 687\n",
    "    },\n",
    "    \"Jupiter\": {\n",
    "        \"Moons\": 79,\n",
    "        \"Orbital Period\": 10592\n",
    "    }\n",
    "}\n",
    "    if planet_name in planetary_info:\n",
    "        print(f\"Planet {planet_name} has an orbital period of {planetary_info[planet_name][\"Orbital Period\"]} Earth days and has {planetary_info[planet_name][\"Moons\"]} moons\")\n",
    "    else:\n",
    "        print(\"Sorry, I have no data on that planet.\")\n",
    "    \n",
    "planet_lookup(\"Jupiter\")\n",
    "planet_lookup(\"Pluto\")"
   ]
  },
  {
   "cell_type": "markdown",
   "id": "4d32ca8e",
   "metadata": {},
   "source": [
    "problem 3 "
   ]
  },
  {
   "cell_type": "code",
   "execution_count": 24,
   "id": "8402231c",
   "metadata": {},
   "outputs": [
    {
     "name": "stdout",
     "output_type": "stream",
     "text": [
      "Storage Bay\n"
     ]
    }
   ],
   "source": [
    "def check_oxygen_levels(oxygen_levels, min_val, max_val):\n",
    "    room_name= []\n",
    "\n",
    "    #for loop go through a dictionary\n",
    "    for key, value in oxygen_levels.items():\n",
    "        if  value< min_val or value> max_val:\n",
    "            return key\n",
    "        \n",
    "    return None\n",
    "  \n",
    "    \n",
    "oxygen_levels = {\n",
    "    \"Command Module\": 21,\n",
    "    \"Habitation Module\": 20,\n",
    "    \"Laboratory Module\": 19,\n",
    "    \"Airlock\": 22,\n",
    "    \"Storage Bay\": 18\n",
    "}\n",
    "\n",
    "\n",
    "min_val = 19\n",
    "max_val = 22\n",
    "\n",
    "print(check_oxygen_levels(oxygen_levels, min_val, max_val))"
   ]
  },
  {
   "cell_type": "markdown",
   "id": "786cc7e0",
   "metadata": {},
   "source": [
    "Problem 4  Experiment Analysis\n",
    "Understand\n",
    "Function that accepts 2 dictionaries and returns a dictionary\n",
    "Return only key value matched up values\n",
    "\n",
    "Plan\n",
    "\n",
    "Define the function \n",
    "Initalize a empty dictionary to append the matched items\n",
    "using a for loop to check items in dictionary one\n",
    "use if statement to compare btwn both dictionary\n",
    "return match\n",
    "If no do return empty\n",
    "\n"
   ]
  },
  {
   "cell_type": "code",
   "execution_count": 25,
   "id": "a94cb83f",
   "metadata": {},
   "outputs": [
    {
     "name": "stdout",
     "output_type": "stream",
     "text": [
      "('pressure', 101.3)\n"
     ]
    }
   ],
   "source": [
    "def data_difference(experiment1, experiment2):\n",
    "    experiment ={}\n",
    "\n",
    "    for key, value in experiment1.items():\n",
    "        #check if both the key and the value is in both dictionaries\n",
    "        if key in experiment2 and value == experiment2[key]:\n",
    "            \n",
    "            #if it is in both return it\n",
    "            return key, value\n",
    "    return None\n",
    "\n",
    "\n",
    "\n",
    "#testing data\n",
    "exp1_data = {'temperature': 22, 'pressure': 101.3, 'humidity': 45}\n",
    "exp2_data = {'temperature': 18, 'pressure': 101.3, 'radiation': 0.5}\n",
    "\n",
    "print(data_difference(exp1_data, exp2_data))"
   ]
  },
  {
   "cell_type": "markdown",
   "id": "649c090e",
   "metadata": {},
   "source": [
    "Question 5: Name the Node\n",
    "\n",
    "U\n",
    "List of vote name\n",
    "Function to get the name with the highest votes\n",
    "return the name with the highest vote\n",
    "\n",
    "P\n",
    "Initialize the function \n",
    "creat an empty dictionary \n",
    " use a loop to to iterate through the list \n",
    " check if the name is in the dictionary\n",
    "  if not append and increament\n",
    "  \n",
    "I\n"
   ]
  },
  {
   "cell_type": "code",
   "execution_count": 26,
   "id": "448f5ae3",
   "metadata": {},
   "outputs": [
    {
     "name": "stdout",
     "output_type": "stream",
     "text": [
      "Colbert\n",
      "Colbert\n"
     ]
    }
   ],
   "source": [
    "def get_winner(votes):\n",
    "    votes_count = {}\n",
    "\n",
    "    for name in votes:\n",
    "        if name in votes_count:\n",
    "            votes_count[name] +=1\n",
    "        else:\n",
    "            votes_count[name] = 1\n",
    "\n",
    "    \n",
    "    max_vote= 0\n",
    "    winner = None    \n",
    "\n",
    "    for name, nums in votes_count.items():\n",
    "        \n",
    "\n",
    "        if  nums> max_vote:\n",
    "            max_vote = nums\n",
    "            winner = name\n",
    "    return winner\n",
    "\n",
    "\n",
    "\n",
    "votes1 = [\"Colbert\", \"Serenity\", \"Serenity\", \"Tranquility\", \"Colbert\", \"Colbert\"]\n",
    "votes2 = [\"Colbert\", \"Serenity\", \"Serenity\", \"Tranquility\", \"Colbert\"]\n",
    "\n",
    "print(get_winner(votes1))\n",
    "print(get_winner(votes2))"
   ]
  },
  {
   "cell_type": "markdown",
   "id": "ab1103ac",
   "metadata": {},
   "source": [
    "Problem 6: Check if the Transmission is Complete\n",
    "\n",
    "U\n",
    "Check the words provided if it contains a english word alphabets \n",
    "If contains all return true\n",
    "if not all return false\n",
    "\n",
    "P\n",
    "Initialize a function \n",
    " create an empty dictionary to get the alphabets\n",
    " Find the number of times the character appear \n",
    " match anc compare with the alphabets to see if it appears\n",
    " "
   ]
  },
  {
   "cell_type": "code",
   "execution_count": 27,
   "id": "20ae5af3",
   "metadata": {},
   "outputs": [
    {
     "name": "stdout",
     "output_type": "stream",
     "text": [
      "True\n",
      "False\n"
     ]
    }
   ],
   "source": [
    "def check_if_complete_transmission(transmission):\n",
    "    aphabets = {}\n",
    "    phabets = ['a', 'b', 'c', 'd', 'e', 'f', 'g', 'h', 'i', 'j', 'k', 'l', 'm', 'n', 'o', 'p', 'q', 'r', 's', 't', 'u', 'v', 'w', 'x', 'y', 'z']\n",
    "\n",
    "    for ch in transmission:    \n",
    "\n",
    "        aphabets[ch] = 1\n",
    "        \n",
    "        \n",
    "    for letters in phabets:\n",
    "        if letters not in aphabets:\n",
    "            return False\n",
    "    return True\n",
    "\n",
    "\n",
    "\n",
    "\n",
    "transmission1 = \"thequickbrownfoxjumpsoverthelazydog\"\n",
    "transmission2 = \"spacetravel\"\n",
    "\n",
    "print(check_if_complete_transmission(transmission1))\n",
    "print(check_if_complete_transmission(transmission2))\n",
    "\n",
    "\n",
    "#Another way of doing this is by  using the set which gets the unique values\n"
   ]
  },
  {
   "cell_type": "markdown",
   "id": "7ff66d61",
   "metadata": {},
   "source": [
    "Problem 7: Signal Pairs\n",
    "\n",
    "U\n",
    "Function that takes in array of words and returns maximum amount of pairs in the array\n",
    "\n",
    "Plan\n"
   ]
  },
  {
   "cell_type": "code",
   "execution_count": 28,
   "id": "328c4b0b",
   "metadata": {},
   "outputs": [
    {
     "name": "stdout",
     "output_type": "stream",
     "text": [
      "2\n",
      "1\n",
      "0\n"
     ]
    }
   ],
   "source": [
    "def max_number_of_string_pairs(signals):\n",
    "    words = set(signals)\n",
    "    #to track numbers of paired words\n",
    "    pair_count = 0\n",
    "\n",
    "    #loop     \n",
    "    for word in signals:\n",
    "\n",
    "        if word not in words:\n",
    "            continue\n",
    "        reversed_word = word[::-1]\n",
    "\n",
    "        if reversed_word in words and   reversed_word != word:\n",
    "            pair_count +=1\n",
    "\n",
    "            words.remove(word)\n",
    "            words.remove(reversed_word)\n",
    "\n",
    "\n",
    "    return pair_count\n",
    "\n",
    "\n",
    "\n",
    "\n",
    "signals1 = [\"cd\", \"ac\", \"dc\", \"ca\", \"zz\"]\n",
    "signals2 = [\"ab\", \"ba\", \"cc\"]\n",
    "signals3 = [\"aa\", \"ab\"]\n",
    "\n",
    "print(max_number_of_string_pairs(signals1))\n",
    "print(max_number_of_string_pairs(signals2))\n",
    "print(max_number_of_string_pairs(signals3))"
   ]
  },
  {
   "cell_type": "markdown",
   "id": "1bb08a7f",
   "metadata": {},
   "source": [
    "Problem 8: Find the Difference of Two Signal Arrays\n"
   ]
  },
  {
   "cell_type": "code",
   "execution_count": 29,
   "id": "81a2c95a",
   "metadata": {},
   "outputs": [
    {
     "name": "stdout",
     "output_type": "stream",
     "text": [
      "({1, 3}, {4, 6})\n",
      "({3}, set())\n"
     ]
    }
   ],
   "source": [
    "def find_difference(signals1, signals2):\n",
    "    #sets to get values in both lists\n",
    "    signal_one = set(signals1)\n",
    "    signal_two = set(signals2)\n",
    "\n",
    "    #find the difference between set 1 and 2\n",
    "    diff1 = signal_one.difference(signal_two)\n",
    "    diff2 = signal_two.difference(signal_one)\n",
    "\n",
    "    return diff1, diff2\n",
    "\n",
    "\n",
    "\n",
    "signals1_example1 = [1, 2, 3]\n",
    "signals2_example1 = [2, 4, 6]\n",
    "\n",
    "signals1_example2 = [1, 2, 3, 3]\n",
    "signals2_example2 = [1, 1, 2, 2]\n",
    "\n",
    "print(find_difference(signals1_example1, signals2_example1)) \n",
    "print(find_difference(signals1_example2, signals2_example2))"
   ]
  }
 ],
 "metadata": {
  "kernelspec": {
   "display_name": "Python 3",
   "language": "python",
   "name": "python3"
  },
  "language_info": {
   "codemirror_mode": {
    "name": "ipython",
    "version": 3
   },
   "file_extension": ".py",
   "mimetype": "text/x-python",
   "name": "python",
   "nbconvert_exporter": "python",
   "pygments_lexer": "ipython3",
   "version": "3.13.0"
  }
 },
 "nbformat": 4,
 "nbformat_minor": 5
}
