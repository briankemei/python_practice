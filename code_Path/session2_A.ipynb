{
 "cells": [
  {
   "cell_type": "markdown",
   "id": "26115153",
   "metadata": {},
   "source": [
    "Problem 1 \n",
    "Understand \n",
    "Function to map 2 list into a dictionary\n"
   ]
  },
  {
   "cell_type": "code",
   "execution_count": 13,
   "id": "16167fa4",
   "metadata": {},
   "outputs": [
    {
     "name": "stdout",
     "output_type": "stream",
     "text": [
      "{'Andreas Mogensen': 'Commander', 'Jasmin Moghbeli': 'Flight Engineer', 'Satoshi Furukawa': 'Flight Engineer', \"Loral O'Hara\": ' Flight Engineer', 'Konstantin Borisov': 'Flight Engineer'}\n",
      "{'Michael Lopez-Alegria': 'Commander', 'Walter Villadei': 'Mission Pilot', 'Alper Gezeravci': 'Mission Specialist', 'Marcus Wandt': 'Mission Specialist'}\n"
     ]
    }
   ],
   "source": [
    "def space_crew(crew, position):\n",
    "    #create an empty dictionary\n",
    "    crew_postions = {}\n",
    "\n",
    "    for i in range(len(crew)):\n",
    "        crew_postions[crew[i]] = position[i]\n",
    "    return crew_postions\n",
    "\n",
    "exp70_crew = [\"Andreas Mogensen\", \"Jasmin Moghbeli\", \"Satoshi Furukawa\", \"Loral O'Hara\", \"Konstantin Borisov\"]\n",
    "exp70_positions = [\"Commander\", \"Flight Engineer\", \"Flight Engineer\", \" Flight Engineer\", \"Flight Engineer\"] \n",
    "\n",
    "ax3_crew = [\"Michael Lopez-Alegria\", \"Walter Villadei\", \"Alper Gezeravci\", \"Marcus Wandt\"]\n",
    "ax3_positions = [\"Commander\", \"Mission Pilot\", \"Mission Specialist\", \"Mission Specialist\"]\n",
    "\n",
    "print(space_crew(exp70_crew, exp70_positions))\n",
    "print(space_crew(ax3_crew, ax3_positions))"
   ]
  },
  {
   "cell_type": "markdown",
   "id": "aee943d7",
   "metadata": {},
   "source": [
    "problem 2 Space Encyclopedia\n"
   ]
  },
  {
   "cell_type": "code",
   "execution_count": 14,
   "id": "34ca33c4",
   "metadata": {},
   "outputs": [
    {
     "name": "stdout",
     "output_type": "stream",
     "text": [
      "Planet Jupiter has an orbital period of 10592 Earth days and has 79 moons\n",
      "Sorry, I have no data on that planet.\n"
     ]
    }
   ],
   "source": [
    "def planet_lookup(planet_name):\n",
    "\n",
    "    planetary_info = {\n",
    "    \"Mercury\": {\n",
    "        \"Moons\": 0,\n",
    "        \"Orbital Period\": 88\n",
    "    },\n",
    "    \"Earth\": {\n",
    "        \"Moons\": 1,\n",
    "        \"Orbital Period\": 365.25\n",
    "    },\n",
    "    \"Mars\": {\n",
    "        \"Moons\": 2,\n",
    "        \"Orbital Period\": 687\n",
    "    },\n",
    "    \"Jupiter\": {\n",
    "        \"Moons\": 79,\n",
    "        \"Orbital Period\": 10592\n",
    "    }\n",
    "}\n",
    "    if planet_name in planetary_info:\n",
    "        print(f\"Planet {planet_name} has an orbital period of {planetary_info[planet_name][\"Orbital Period\"]} Earth days and has {planetary_info[planet_name][\"Moons\"]} moons\")\n",
    "    else:\n",
    "        print(\"Sorry, I have no data on that planet.\")\n",
    "    \n",
    "planet_lookup(\"Jupiter\")\n",
    "planet_lookup(\"Pluto\")"
   ]
  },
  {
   "cell_type": "markdown",
   "id": "4d32ca8e",
   "metadata": {},
   "source": [
    "problem 3 "
   ]
  },
  {
   "cell_type": "code",
   "execution_count": 15,
   "id": "8402231c",
   "metadata": {},
   "outputs": [
    {
     "name": "stdout",
     "output_type": "stream",
     "text": [
      "Storage Bay\n"
     ]
    }
   ],
   "source": [
    "def check_oxygen_levels(oxygen_levels, min_val, max_val):\n",
    "    room_name= []\n",
    "\n",
    "    #for loop go through a dictionary\n",
    "    for key, value in oxygen_levels.items():\n",
    "        if  value< min_val or value> max_val:\n",
    "            return key\n",
    "        \n",
    "    return None\n",
    "  \n",
    "    \n",
    "oxygen_levels = {\n",
    "    \"Command Module\": 21,\n",
    "    \"Habitation Module\": 20,\n",
    "    \"Laboratory Module\": 19,\n",
    "    \"Airlock\": 22,\n",
    "    \"Storage Bay\": 18\n",
    "}\n",
    "\n",
    "\n",
    "min_val = 19\n",
    "max_val = 22\n",
    "\n",
    "print(check_oxygen_levels(oxygen_levels, min_val, max_val))"
   ]
  },
  {
   "cell_type": "markdown",
   "id": "786cc7e0",
   "metadata": {},
   "source": [
    "Problem 4  Experiment Analysis\n",
    "Understand\n",
    "Function that accepts 2 dictionaries and returns a dictionary\n",
    "Return only key value matched up values\n",
    "\n",
    "Plan\n",
    "\n",
    "Define the function \n",
    "Initalize a empty dictionary to append the matched items\n",
    "using a for loop to check items in dictionary one\n",
    "use if statement to compare btwn both dictionary\n",
    "return match\n",
    "If no do return empty\n",
    "\n"
   ]
  },
  {
   "cell_type": "code",
   "execution_count": 21,
   "id": "a94cb83f",
   "metadata": {},
   "outputs": [
    {
     "name": "stdout",
     "output_type": "stream",
     "text": [
      "('pressure', 101.3)\n"
     ]
    }
   ],
   "source": [
    "def data_difference(experiment1, experiment2):\n",
    "    experiment ={}\n",
    "\n",
    "    for key, value in experiment1.items():\n",
    "        if key in experiment2 and value == experiment2[key]:\n",
    "            \n",
    "            return key, value\n",
    "    return None\n",
    "\n",
    "\n",
    "\n",
    "#testing data\n",
    "exp1_data = {'temperature': 22, 'pressure': 101.3, 'humidity': 45}\n",
    "exp2_data = {'temperature': 18, 'pressure': 101.3, 'radiation': 0.5}\n",
    "\n",
    "print(data_difference(exp1_data, exp2_data))"
   ]
  }
 ],
 "metadata": {
  "kernelspec": {
   "display_name": "Python 3",
   "language": "python",
   "name": "python3"
  },
  "language_info": {
   "codemirror_mode": {
    "name": "ipython",
    "version": 3
   },
   "file_extension": ".py",
   "mimetype": "text/x-python",
   "name": "python",
   "nbconvert_exporter": "python",
   "pygments_lexer": "ipython3",
   "version": "3.13.0"
  }
 },
 "nbformat": 4,
 "nbformat_minor": 5
}
